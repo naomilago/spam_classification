{
 "cells": [
  {
   "cell_type": "markdown",
   "metadata": {},
   "source": [
    "<h1 style='text-align: center; font-size: 38px; font-weight: bold; color: #5a189a;'> Spam Classification </h1>\n",
    "<p style='text-align: center; color: #212121;'> This is a special notebook. I'll be exploring another classification problem in NLP but in this time, I'll be also commenting everything I'm doing - with hope to be helpful for someone in the future. This exercise will also be important for me to organize my thoughts, put in practice what I've learnt and also retain knowledge more easily. </p>"
   ]
  },
  {
   "cell_type": "markdown",
   "metadata": {},
   "source": [
    "<h3 style='color: #7b2cbf; text-align: center;'> Setting Up </h3>"
   ]
  },
  {
   "cell_type": "markdown",
   "metadata": {},
   "source": [
    "<p style='text-align: justify; color: #212121; font-size: 16px;'> First of all, I'm going to verify the GPU status for this machine. You can see that I also install some libraries that I might use in the future. </p>"
   ]
  },
  {
   "cell_type": "code",
   "execution_count": 1,
   "metadata": {},
   "outputs": [
    {
     "name": "stdout",
     "output_type": "stream",
     "text": [
      "\u001b[33mWARNING: Running pip as the 'root' user can result in broken permissions and conflicting behaviour with the system package manager. It is recommended to use a virtual environment instead: https://pip.pypa.io/warnings/venv\u001b[0m\u001b[33m\n",
      "\u001b[0mNote: you may need to restart the kernel to use updated packages.\n"
     ]
    }
   ],
   "source": [
    "%pip install chardet plotly loguru demoji --quiet"
   ]
  },
  {
   "cell_type": "code",
   "execution_count": 2,
   "metadata": {},
   "outputs": [
    {
     "name": "stdout",
     "output_type": "stream",
     "text": [
      "Using CUDA device: NVIDIA RTX A6000\n",
      "Device capability: (8, 6)\n",
      "Total memory: 47.54 GB\n",
      "Number of CUDA devices: 1\n"
     ]
    }
   ],
   "source": [
    "import torch\n",
    "\n",
    "if torch.cuda.is_available():\n",
    "    device = torch.device(\"cuda\")\n",
    "    print(f\"Using CUDA device: {torch.cuda.get_device_name(device)}\")\n",
    "    print(f\"Device capability: {torch.cuda.get_device_capability(device)}\")\n",
    "    print(f\"Total memory: {torch.cuda.get_device_properties(device).total_memory / 1024**3:.2f} GB\")\n",
    "    print(f\"Number of CUDA devices: {torch.cuda.device_count()}\")\n",
    "else:\n",
    "    print(\"CUDA is not available on this device.\")"
   ]
  },
  {
   "cell_type": "markdown",
   "metadata": {},
   "source": [
    "<p style='text-align: justify; color: #212121; font-size: 16px;'> Now I'll be importing the required libraries so I can get everything set up. In addition, I'll be verifying the encoding for my data file so I can import it using Pandas in a better way. </p>"
   ]
  },
  {
   "cell_type": "code",
   "execution_count": 3,
   "metadata": {},
   "outputs": [
    {
     "name": "stderr",
     "output_type": "stream",
     "text": [
      "\u001b[32m2023-08-18 21:02:54.638\u001b[0m | \u001b[32m\u001b[1mSUCCESS \u001b[0m | \u001b[36m__main__\u001b[0m:\u001b[36m<module>\u001b[0m:\u001b[36m32\u001b[0m - \u001b[32m\u001b[1mDataset loaded successfully with 5572 rows\u001b[0m\n"
     ]
    }
   ],
   "source": [
    "from torch.utils.data import Dataset, DataLoader\n",
    "from sklearn.preprocessing import LabelEncoder\n",
    "from nltk.corpus import stopwords as stpw\n",
    "from nltk.tokenize import word_tokenize\n",
    "from nltk.stem import WordNetLemmatizer\n",
    "import torch.nn.functional as F\n",
    "import matplotlib.pyplot as plt\n",
    "from loguru import logger\n",
    "import torch.nn as nn\n",
    "import pandas as pd\n",
    "import numpy as np\n",
    "import chardet\n",
    "import string\n",
    "import demoji\n",
    "import torch\n",
    "import tqdm\n",
    "import nltk\n",
    "\n",
    "nltk.download(['punkt', 'wordnet', 'stopwords', 'omw-1.4'], download_dir='data/nltk_downloads', quiet=True)\n",
    "\n",
    "%matplotlib inline\n",
    "\n",
    "nltk.data.path.append('data/nltk_downloads/')\n",
    "\n",
    "with open('data/email_spam.csv', 'rb') as f:\n",
    "    result = chardet.detect(f.read())\n",
    "    encoding = result['encoding']\n",
    "\n",
    "df = pd.read_csv('data/email_spam.csv', encoding=encoding)\n",
    "\n",
    "if len(df) != 0:\n",
    "  logger.success('Dataset loaded successfully with {} rows'.format(len(df)))\n",
    "else:\n",
    "  logger.error('Dataset not loaded')"
   ]
  },
  {
   "cell_type": "markdown",
   "metadata": {},
   "source": [
    "<p style='text-align: justify; color: #212121; font-size: 16px;'> I might be a perfectionist, but I'll make some modifications regarding the label column names. </p>"
   ]
  },
  {
   "cell_type": "code",
   "execution_count": 4,
   "metadata": {},
   "outputs": [
    {
     "name": "stdout",
     "output_type": "stream",
     "text": [
      "Previous columns: ['Category', 'Message']\n",
      "New columns: ['label', 'text']\n"
     ]
    },
    {
     "data": {
      "text/html": [
       "<div>\n",
       "<style scoped>\n",
       "    .dataframe tbody tr th:only-of-type {\n",
       "        vertical-align: middle;\n",
       "    }\n",
       "\n",
       "    .dataframe tbody tr th {\n",
       "        vertical-align: top;\n",
       "    }\n",
       "\n",
       "    .dataframe thead th {\n",
       "        text-align: right;\n",
       "    }\n",
       "</style>\n",
       "<table border=\"1\" class=\"dataframe\">\n",
       "  <thead>\n",
       "    <tr style=\"text-align: right;\">\n",
       "      <th></th>\n",
       "      <th>text</th>\n",
       "      <th>label</th>\n",
       "    </tr>\n",
       "  </thead>\n",
       "  <tbody>\n",
       "    <tr>\n",
       "      <th>0</th>\n",
       "      <td>Go until jurong point, crazy.. Available only ...</td>\n",
       "      <td>not spam</td>\n",
       "    </tr>\n",
       "    <tr>\n",
       "      <th>1</th>\n",
       "      <td>Ok lar... Joking wif u oni...</td>\n",
       "      <td>not spam</td>\n",
       "    </tr>\n",
       "    <tr>\n",
       "      <th>2</th>\n",
       "      <td>Free entry in 2 a wkly comp to win FA Cup fina...</td>\n",
       "      <td>spam</td>\n",
       "    </tr>\n",
       "    <tr>\n",
       "      <th>3</th>\n",
       "      <td>U dun say so early hor... U c already then say...</td>\n",
       "      <td>not spam</td>\n",
       "    </tr>\n",
       "    <tr>\n",
       "      <th>4</th>\n",
       "      <td>Nah I don't think he goes to usf, he lives aro...</td>\n",
       "      <td>not spam</td>\n",
       "    </tr>\n",
       "  </tbody>\n",
       "</table>\n",
       "</div>"
      ],
      "text/plain": [
       "                                                text     label\n",
       "0  Go until jurong point, crazy.. Available only ...  not spam\n",
       "1                      Ok lar... Joking wif u oni...  not spam\n",
       "2  Free entry in 2 a wkly comp to win FA Cup fina...      spam\n",
       "3  U dun say so early hor... U c already then say...  not spam\n",
       "4  Nah I don't think he goes to usf, he lives aro...  not spam"
      ]
     },
     "execution_count": 4,
     "metadata": {},
     "output_type": "execute_result"
    }
   ],
   "source": [
    "print(f'Previous columns: {df.columns.tolist()}')\n",
    "df.columns = list(['label', 'text'])\n",
    "print(f'New columns: {df.columns.tolist()}')\n",
    "df['label'] = df.label.map({'ham': 'not spam', 'spam': 'spam'})\n",
    "df = df[['text', 'label']]\n",
    "df.head()"
   ]
  },
  {
   "cell_type": "markdown",
   "metadata": {},
   "source": [
    "<h3 style='color: #7b2cbf; text-align: center;'> Quick EDA </h3>"
   ]
  },
  {
   "cell_type": "markdown",
   "metadata": {},
   "source": [
    "<p style='text-align: justify; color: #212121; font-size: 16px;'> Now I want to start a quick process that I call <bold>Quick EDA<bold> - which consists in a short EDA where I can see some overall tips on how my data is behaving or what type of problem am I dealing. Some useful questions we might come up with are as follows: </p>\n",
    "\n",
    "<ul>\n",
    "  <li><p style='text-align: justify; color: #212121; font-size: 16px;'>Is this an imbalenced or balanced problem?</p></li>\n",
    "  <li><p style='text-align: justify; color: #212121; font-size: 16px;'>Are there any null values? If yes, then how many?</p></li>\n",
    "  <li><p style='text-align: justify; color: #212121; font-size: 16px;'>Are there any duplicates? If yes, how many? Could it compromise our model?</p></li>\n",
    "  <li><p style='text-align: justify; color: #212121; font-size: 16px;'>How are the tokens approximately behaving?</p></li>\n",
    "</ul>"
   ]
  },
  {
   "cell_type": "code",
   "execution_count": 5,
   "metadata": {},
   "outputs": [
    {
     "name": "stderr",
     "output_type": "stream",
     "text": [
      "\u001b[32m2023-08-18 21:02:58.290\u001b[0m | \u001b[1mINFO    \u001b[0m | \u001b[36m__main__\u001b[0m:\u001b[36m<module>\u001b[0m:\u001b[36m2\u001b[0m - \u001b[1mThere are 0 empty texts and 0 empty labels in the dataset.\u001b[0m\n"
     ]
    }
   ],
   "source": [
    "text, label = df.isna().sum()\n",
    "logger.info(f'There are {text} empty texts and {label} empty labels in the dataset.')"
   ]
  },
  {
   "cell_type": "code",
   "execution_count": 6,
   "metadata": {},
   "outputs": [
    {
     "name": "stderr",
     "output_type": "stream",
     "text": [
      "\u001b[32m2023-08-18 21:02:58.501\u001b[0m | \u001b[1mINFO    \u001b[0m | \u001b[36m__main__\u001b[0m:\u001b[36m<module>\u001b[0m:\u001b[36m2\u001b[0m - \u001b[1mThere are 415 duplicates in the dataset.\u001b[0m\n",
      "\u001b[32m2023-08-18 21:02:58.502\u001b[0m | \u001b[1mINFO    \u001b[0m | \u001b[36m__main__\u001b[0m:\u001b[36m<module>\u001b[0m:\u001b[36m3\u001b[0m - \u001b[1mThe percentage is 7.45%. So we can drop them.\u001b[0m\n"
     ]
    }
   ],
   "source": [
    "duplicates = df[df.duplicated()]\n",
    "logger.info(f'There are {len(duplicates)} duplicates in the dataset.')\n",
    "logger.info(f'The percentage is {len(duplicates)/len(df)*100:.2f}%. So we can drop them.')\n",
    "df = df.drop_duplicates()"
   ]
  },
  {
   "cell_type": "code",
   "execution_count": 7,
   "metadata": {},
   "outputs": [
    {
     "name": "stderr",
     "output_type": "stream",
     "text": [
      "\u001b[32m2023-08-18 21:02:58.662\u001b[0m | \u001b[1mINFO    \u001b[0m | \u001b[36m__main__\u001b[0m:\u001b[36m<module>\u001b[0m:\u001b[36m9\u001b[0m - \u001b[1mThe dataset is imbalanced.\u001b[0m\n"
     ]
    },
    {
     "data": {
      "image/png": "[encoded data removed]",
      "text/plain": [
       "<Figure size 350x300 with 1 Axes>"
      ]
     },
     "metadata": {},
     "output_type": "display_data"
    }
   ],
   "source": [
    "aux = pd.DataFrame(df.label.value_counts()).reset_index().rename(columns={'index':'label','label':'count'})\n",
    "\n",
    "try:\n",
    "  if np.sum(aux['count'].tolist()) == df.shape[0]:\n",
    "    spam = aux.query('label == \\'spam\\'').sum()[1] / df.shape[0]\n",
    "    not_spam = aux.query('label == \\'not spam\\'').sum()[1] / df.shape[0]\n",
    "    \n",
    "    if spam * 5 > not_spam * 5 or not_spam * 5 > spam * 5:\n",
    "      logger.info('The dataset is imbalanced.')\n",
    "    \n",
    "  else:\n",
    "    raise Exception\n",
    "except:\n",
    "  logger.error('The sum of the count column is not equal to the number of rows in the dataframe.')\n",
    "\n",
    "plt.figure(figsize=(3.5, 3))\n",
    "plt.style.use('seaborn-v0_8-paper')\n",
    "\n",
    "plt.bar(aux.label, aux['count'], color=['#61a5c2', '#ff99ac'])\n",
    "plt.title('Label distribution')\n",
    "plt.xlabel('Label')\n",
    "plt.ylabel('Count')\n",
    "plt.show()"
   ]
  },
  {
   "cell_type": "code",
   "execution_count": 8,
   "metadata": {},
   "outputs": [
    {
     "data": {
      "image/png": "[encoded data removed]",
      "text/plain": [
       "<Figure size 350x300 with 1 Axes>"
      ]
     },
     "metadata": {},
     "output_type": "display_data"
    }
   ],
   "source": [
    "def token_approximation(text: str) -> int:\n",
    "  return len(str.split(text))\n",
    "\n",
    "ta = dict({\n",
    "  'min': f'{np.min([token_approximation(text) for text in df.text.tolist()]):.2f}',\n",
    "  'max': f'{np.max([token_approximation(text) for text in df.text.tolist()]):.2f}',\n",
    "  'mean': f'{np.mean([token_approximation(text) for text in df.text.tolist()]):.2f}',\n",
    "  'median': f'{np.median([token_approximation(text) for text in df.text.tolist()]):.2f}'\n",
    "})\n",
    "\n",
    "token_approximations = pd.DataFrame(list(ta.items()), columns=['measurement', 'value'])\n",
    "\n",
    "plt.figure(figsize=(3.5, 3))\n",
    "plt.style.use('seaborn-v0_8-paper')\n",
    "\n",
    "plt.bar(token_approximations.measurement, token_approximations.value, color=['#fdf0d5', '#c6d8d3', '#f0544f', '#d81e5b'])\n",
    "plt.title('Tokens approximations')\n",
    "plt.xlabel('Measurement')\n",
    "plt.ylabel('Value')\n",
    "plt.show()"
   ]
  },
  {
   "cell_type": "code",
   "execution_count": 208,
   "metadata": {},
   "outputs": [
    {
     "data": {
      "image/png": "[encoded data removed]",
      "text/plain": [
       "<Figure size 800x400 with 2 Axes>"
      ]
     },
     "metadata": {},
     "output_type": "display_data"
    }
   ],
   "source": [
    "aux = df.copy(deep=True)\n",
    "aux['tl'] = aux.tokens.apply(lambda x: len(x))\n",
    "aux = aux.tl.tolist()\n",
    "\n",
    "fig, (ax1, ax2) = plt.subplots(1, 2, figsize=(8, 4))\n",
    "ax1.hist(aux, bins=50, color='#f0544f')\n",
    "ax1.set_title('Tokens distribution')\n",
    "ax1.set_xlabel('Amount')\n",
    "ax1.set_ylabel('Count')\n",
    "\n",
    "aux2 = df.copy(deep=True)\n",
    "aux2['tl'] = aux2.tokens.apply(lambda x: len(x))\n",
    "aux2 = aux2.query('tl > 32')\n",
    "aux2 = aux2.tl.tolist()\n",
    "\n",
    "ax2.hist(aux2, bins=15, color='#d81e5b')\n",
    "ax2.set_title('Token distribution \\n (greater than 32 tokens)')\n",
    "ax2.set_xlabel('Amount')\n",
    "ax2.set_ylabel('Count')\n",
    "\n",
    "plt.tight_layout()\n",
    "plt.show()"
   ]
  },
  {
   "cell_type": "markdown",
   "metadata": {},
   "source": [
    "<h3 style='color: #7b2cbf; text-align: center;'> Preprocessing </h3>"
   ]
  },
  {
   "cell_type": "markdown",
   "metadata": {},
   "source": [
    "<p style='text-align: justify; color: #212121; font-size: 16px;'> Alright, now we're ready to start preprocessing our data. I'll be removing stopwords, punctuations and applying a lemmatization technique. I'll be also label encoding our targets and getting the vectors/tensors from our texts. </p>\n",
    "\n",
    "<blockquote>\n",
    "  <p style='text-align: justify; color: #212121; font-size: 16px;'>I know that this dataset might not have any emoji, but I want to implement a way to translate them into text, if present.</p>\n",
    "  <ul>\n",
    "    <li>\n",
    "      <p style='text-align: justify; color: #212121; font-size: 16px;'>In this case, the emoji 💜 becomes <i>purple_heart</i>. </p>\n",
    "    </li>\n",
    "    <br>\n",
    "  </ul>\n",
    "</blockquote>"
   ]
  },
  {
   "cell_type": "code",
   "execution_count": 209,
   "metadata": {},
   "outputs": [
    {
     "name": "stderr",
     "output_type": "stream",
     "text": [
      "\u001b[32m2023-08-18 21:47:25.693\u001b[0m | \u001b[1mINFO    \u001b[0m | \u001b[36m__main__\u001b[0m:\u001b[36m<module>\u001b[0m:\u001b[36m30\u001b[0m - \u001b[1mThe dataset has been preprocessed. It has a shape of (5157, 4) now.\u001b[0m\n"
     ]
    }
   ],
   "source": [
    "stopwords = set(stpw.words('english'))\n",
    "punctuations = set(string.punctuation)\n",
    "\n",
    "def preprocessing(text: str, stopwords: set, punctuation: set) -> tuple[list[str], str]:\n",
    "    emojis = demoji.findall(text)\n",
    "    \n",
    "    new_text = ''\n",
    "    for i, character in enumerate(text):\n",
    "        if character in emojis.keys():\n",
    "            translation = str.join('_', emojis[character].split())\n",
    "            new_text += translation\n",
    "        else:\n",
    "            new_text += character\n",
    "        \n",
    "    lemmatizer = WordNetLemmatizer()\n",
    "    \n",
    "    tokens = word_tokenize(new_text)\n",
    "    lemmas = [ lemmatizer.lemmatize(token) for token in tokens ]\n",
    "    \n",
    "    tokens = [ str.lower(token) for token in lemmas if token not in stopwords and token not in punctuations ]\n",
    "    refined_text = ' '.join(tokens)\n",
    "    \n",
    "    if len(tokens) == 0:\n",
    "        return ['EMPTY'], 'EMPTY'\n",
    "    else:\n",
    "        return tokens, refined_text\n",
    "    \n",
    "df['tokens'], df['refined_text'] = zip(*df['text'].apply(lambda x: preprocessing(x, stopwords, punctuations)))\n",
    "\n",
    "logger.info('The dataset has been preprocessed. It has a shape of {} now.'.format(df.shape))"
   ]
  },
  {
   "cell_type": "markdown",
   "metadata": {},
   "source": [
    "<p style='text-align: justify; color: #212121; font-size: 16px;'> In this point, I'll create my vocabulary and also be creating two special ids in order to handle unknown tokens and fit all the outputs in the same padding size. I'll be defining two other functions to handle attention_mask and decoding the ids as well. </p>"
   ]
  },
  {
   "cell_type": "code",
   "execution_count": 210,
   "metadata": {},
   "outputs": [],
   "source": [
    "vocab = list()\n",
    "for tokens in df.tokens:\n",
    "    vocab.extend(tokens)\n",
    "\n",
    "vocab = set(vocab)\n",
    "vocab = dict(zip(vocab, range(2, len(vocab) + 2)))\n",
    "vocab['UNK'] = 1\n",
    "vocab['PAD'] = 0\n",
    "vocab = dict(sorted(vocab.items(), key=lambda item: item[1]))"
   ]
  },
  {
   "cell_type": "code",
   "execution_count": 350,
   "metadata": {},
   "outputs": [
    {
     "data": {
      "text/plain": [
       "(array([6307, 6253,   55, 5307,  369,   55, 4735, 5135, 2072,   55, 2875,\n",
       "           9, 7883,   55,  426, 6253,   55, 6818,    0,    0,    0,    0,\n",
       "           0,    0,    0,    0,    0,    0,    0,    0,    0,    0,    0,\n",
       "           0,    0,    0,    0,    0,    0,    0,    0,    0,    0,    0,\n",
       "           0,    0,    0,    0,    0,    0,    0,    0,    0,    0,    0,\n",
       "           0,    0,    0,    0,    0,    0,    0,    0,    0]),\n",
       " array([1, 1, 1, 1, 1, 1, 1, 1, 1, 1, 1, 1, 1, 1, 1, 1, 1, 1, 0, 0, 0, 0,\n",
       "        0, 0, 0, 0, 0, 0, 0, 0, 0, 0, 0, 0, 0, 0, 0, 0, 0, 0, 0, 0, 0, 0,\n",
       "        0, 0, 0, 0, 0, 0, 0, 0, 0, 0, 0, 0, 0, 0, 0, 0, 0, 0, 0, 0]))"
      ]
     },
     "execution_count": 350,
     "metadata": {},
     "output_type": "execute_result"
    }
   ],
   "source": [
    "def get_ids(text: str, max_length: int) -> np.ndarray[int]:\n",
    "  text = str.lower(text)\n",
    "  vector = [vocab[word] if word in vocab.keys() else vocab['UNK'] for word in text.split()]\n",
    "  vector = vector[:max_length] + [vocab['PAD']] * (max_length - len(vector))\n",
    "  return np.array(vector)\n",
    "\n",
    "def get_attention_mask(ids: np.ndarray[int]) -> np.ndarray[int]:\n",
    "  return np.array([1 if id > 0 else 0 for id in ids])\n",
    "\n",
    "def ids_decoder(ids: np.ndarray[int], vocab: dict[str, int]) -> str:\n",
    "  reconstruction = list(vocab.keys())[list(vocab.values()).index(mysterious_data[0])]\n",
    "  for i in mysterious_data[1:]:\n",
    "      word = list(vocab.keys())[list(vocab.values()).index(i)]\n",
    "      word = ' ' + word if word != 'PAD' else ''\n",
    "      reconstruction += word\n",
    "      \n",
    "  return reconstruction\n",
    "\n",
    "max_length = 64\n",
    "sample_text = df.sample(1, random_state=20).refined_text.values[0]\n",
    "input_ids = get_ids(sample_text, max_length)\n",
    "attention_mask = get_attention_mask(input_ids)\n",
    "\n",
    "input_ids, attention_mask"
   ]
  },
  {
   "cell_type": "code",
   "execution_count": null,
   "metadata": {},
   "outputs": [],
   "source": []
  }
 ],
 "metadata": {
  "kernelspec": {
   "display_name": "Python 3 (ipykernel)",
   "language": "python",
   "name": "python3"
  },
  "language_info": {
   "codemirror_mode": {
    "name": "ipython",
    "version": 3
   },
   "file_extension": ".py",
   "mimetype": "text/x-python",
   "name": "python",
   "nbconvert_exporter": "python",
   "pygments_lexer": "ipython3",
   "version": "3.9.16"
  },
  "orig_nbformat": 4
 },
 "nbformat": 4,
 "nbformat_minor": 2
}
