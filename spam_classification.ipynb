{
 "cells": [
  {
   "cell_type": "markdown",
   "metadata": {},
   "source": [
    "<h1 style='text-align: center; font-size: 38px; font-weight: bold; color: #5a189a;'> Spam Classification </h1>\n",
    "<p style='text-align: center; color: #212121;'> This is a special notebook. I'll be exploring another classification problem in NLP but in this time, I'll be also commenting everything I'm doing - with hope to be helpful for someone in the future. This exercise will also be important for me to organize my thoughts, put in practice what I've learnt and also retain knowledge more easily. </p>"
   ]
  },
  {
   "cell_type": "markdown",
   "metadata": {},
   "source": [
    "<h3 style='color: #7b2cbf; text-align: center;'> Setting Up </h3>"
   ]
  },
  {
   "cell_type": "markdown",
   "metadata": {},
   "source": [
    "<p style='text-align: justify; color: #212121; font-size: 16px;'> First of all, I'm going to verify the GPU status for this machine. You can see that I also install some libraries that I might use in the future. </p>"
   ]
  },
  {
   "cell_type": "code",
   "execution_count": 38,
   "metadata": {},
   "outputs": [
    {
     "name": "stdout",
     "output_type": "stream",
     "text": [
      "\u001b[33mWARNING: Running pip as the 'root' user can result in broken permissions and conflicting behaviour with the system package manager. It is recommended to use a virtual environment instead: https://pip.pypa.io/warnings/venv\u001b[0m\u001b[33m\n",
      "\u001b[0mNote: you may need to restart the kernel to use updated packages.\n"
     ]
    }
   ],
   "source": [
    "%pip install chardet plotly loguru demoji --quiet"
   ]
  },
  {
   "cell_type": "code",
   "execution_count": 39,
   "metadata": {},
   "outputs": [
    {
     "name": "stdout",
     "output_type": "stream",
     "text": [
      "Using CUDA device: NVIDIA RTX A6000\n",
      "Device capability: (8, 6)\n",
      "Total memory: 47.54 GB\n",
      "Number of CUDA devices: 1\n"
     ]
    }
   ],
   "source": [
    "import torch\n",
    "\n",
    "if torch.cuda.is_available():\n",
    "    device = torch.device(\"cuda\")\n",
    "    print(f\"Using CUDA device: {torch.cuda.get_device_name(device)}\")\n",
    "    print(f\"Device capability: {torch.cuda.get_device_capability(device)}\")\n",
    "    print(f\"Total memory: {torch.cuda.get_device_properties(device).total_memory / 1024**3:.2f} GB\")\n",
    "    print(f\"Number of CUDA devices: {torch.cuda.device_count()}\")\n",
    "else:\n",
    "    print(\"CUDA is not available on this device.\")"
   ]
  },
  {
   "cell_type": "markdown",
   "metadata": {},
   "source": [
    "<p style='text-align: justify; color: #212121; font-size: 16px;'> Now I'll be importing the required libraries so I can get everything set up. In addition, I'll be verifying the encoding for my data file so I can import it using Pandas in a better way. </p>"
   ]
  },
  {
   "cell_type": "code",
   "execution_count": 66,
   "metadata": {},
   "outputs": [
    {
     "name": "stderr",
     "output_type": "stream",
     "text": [
      "\u001b[32m2023-08-16 04:00:29.365\u001b[0m | \u001b[32m\u001b[1mSUCCESS \u001b[0m | \u001b[36m__main__\u001b[0m:\u001b[36m<module>\u001b[0m:\u001b[36m22\u001b[0m - \u001b[32m\u001b[1mDataset loaded successfully with 5572 rows\u001b[0m\n"
     ]
    }
   ],
   "source": [
    "from torch.utils.data import Dataset, DataLoader\n",
    "from nltk.tokenize import word_tokenize\n",
    "from nltk.stem import WordNetLemmatizer\n",
    "from nltk.corpus import stopwords\n",
    "import torch.nn.functional as F\n",
    "from loguru import logger\n",
    "import torch.nn as nn\n",
    "import pandas as pd\n",
    "import numpy as np\n",
    "import chardet\n",
    "import torch\n",
    "import tqdm\n",
    "import nltk\n",
    "\n",
    "with open('data/email_spam.csv', 'rb') as f:\n",
    "    result = chardet.detect(f.read())\n",
    "    encoding = result['encoding']\n",
    "\n",
    "df = pd.read_csv('data/email_spam.csv', encoding=encoding)\n",
    "\n",
    "if len(df) != 0:\n",
    "  logger.success('Dataset loaded successfully with {} rows'.format(len(df)))\n",
    "else:\n",
    "  logger.error('Dataset not loaded')"
   ]
  },
  {
   "cell_type": "markdown",
   "metadata": {},
   "source": [
    "<p style='text-align: justify; color: #212121; font-size: 16px;'> I might be a perfectionist, but I'll make some modifications regarding the label column names. </p>"
   ]
  },
  {
   "cell_type": "code",
   "execution_count": 68,
   "metadata": {},
   "outputs": [
    {
     "name": "stdout",
     "output_type": "stream",
     "text": [
      "Previous columns: ['Category', 'Message']\n",
      "New columns: ['label', 'text']\n"
     ]
    },
    {
     "data": {
      "text/html": [
       "<div>\n",
       "<style scoped>\n",
       "    .dataframe tbody tr th:only-of-type {\n",
       "        vertical-align: middle;\n",
       "    }\n",
       "\n",
       "    .dataframe tbody tr th {\n",
       "        vertical-align: top;\n",
       "    }\n",
       "\n",
       "    .dataframe thead th {\n",
       "        text-align: right;\n",
       "    }\n",
       "</style>\n",
       "<table border=\"1\" class=\"dataframe\">\n",
       "  <thead>\n",
       "    <tr style=\"text-align: right;\">\n",
       "      <th></th>\n",
       "      <th>text</th>\n",
       "      <th>label</th>\n",
       "    </tr>\n",
       "  </thead>\n",
       "  <tbody>\n",
       "    <tr>\n",
       "      <th>0</th>\n",
       "      <td>Go until jurong point, crazy.. Available only ...</td>\n",
       "      <td>not spam</td>\n",
       "    </tr>\n",
       "    <tr>\n",
       "      <th>1</th>\n",
       "      <td>Ok lar... Joking wif u oni...</td>\n",
       "      <td>not spam</td>\n",
       "    </tr>\n",
       "    <tr>\n",
       "      <th>2</th>\n",
       "      <td>Free entry in 2 a wkly comp to win FA Cup fina...</td>\n",
       "      <td>spam</td>\n",
       "    </tr>\n",
       "    <tr>\n",
       "      <th>3</th>\n",
       "      <td>U dun say so early hor... U c already then say...</td>\n",
       "      <td>not spam</td>\n",
       "    </tr>\n",
       "    <tr>\n",
       "      <th>4</th>\n",
       "      <td>Nah I don't think he goes to usf, he lives aro...</td>\n",
       "      <td>not spam</td>\n",
       "    </tr>\n",
       "  </tbody>\n",
       "</table>\n",
       "</div>"
      ],
      "text/plain": [
       "                                                text     label\n",
       "0  Go until jurong point, crazy.. Available only ...  not spam\n",
       "1                      Ok lar... Joking wif u oni...  not spam\n",
       "2  Free entry in 2 a wkly comp to win FA Cup fina...      spam\n",
       "3  U dun say so early hor... U c already then say...  not spam\n",
       "4  Nah I don't think he goes to usf, he lives aro...  not spam"
      ]
     },
     "execution_count": 68,
     "metadata": {},
     "output_type": "execute_result"
    }
   ],
   "source": [
    "print(f'Previous columns: {df.columns.tolist()}')\n",
    "df.columns = list(['label', 'text'])\n",
    "print(f'New columns: {df.columns.tolist()}')\n",
    "df['label'] = df.label.map({'ham': 'not spam', 'spam': 'spam'})\n",
    "df = df[['text', 'label']]\n",
    "df.head()"
   ]
  },
  {
   "cell_type": "markdown",
   "metadata": {},
   "source": [
    "<h3 style='color: #7b2cbf; text-align: center;'> Quick EDA </h3>"
   ]
  },
  {
   "cell_type": "markdown",
   "metadata": {},
   "source": [
    "<p style='text-align: justify; color: #212121; font-size: 16px;'> Now I want to start a quick process that I call <bold>Quick EDA<bold> - which consists in a short EDA where I can see some overall tips on how my data is behaving or what type of problem am I dealing. Some useful questions we might come up with are as follows: </p>\n",
    "\n",
    "<ul>\n",
    "  <li><p style='text-align: justify; color: #212121; font-size: 16px;'>Is this an imbalence or balanced problem?</p></li>\n",
    "  <li><p style='text-align: justify; color: #212121; font-size: 16px;'>Are there any null values? If yes, then how many?</p></li>\n",
    "  <li><p style='text-align: justify; color: #212121; font-size: 16px;'>Are there any duplicates? If yes, how many? Could it compromise our model?</p></li>\n",
    "  <li><p style='text-align: justify; color: #212121; font-size: 16px;'>How many raw tokens do we have approximately?</p></li>\n",
    "</ul>"
   ]
  },
  {
   "cell_type": "code",
   "execution_count": null,
   "metadata": {},
   "outputs": [],
   "source": []
  }
 ],
 "metadata": {
  "kernelspec": {
   "display_name": "Python 3 (ipykernel)",
   "language": "python",
   "name": "python3"
  },
  "language_info": {
   "codemirror_mode": {
    "name": "ipython",
    "version": 3
   },
   "file_extension": ".py",
   "mimetype": "text/x-python",
   "name": "python",
   "nbconvert_exporter": "python",
   "pygments_lexer": "ipython3",
   "version": "3.9.16"
  },
  "orig_nbformat": 4
 },
 "nbformat": 4,
 "nbformat_minor": 2
}
